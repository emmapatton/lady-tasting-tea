{
 "cells": [
  {
   "cell_type": "markdown",
   "metadata": {},
   "source": [
    "# Lady Tasting Tea - An Invesitgation\n",
    "\n",
    "The lady tasting tea problem is..."
   ]
  },
  {
   "cell_type": "markdown",
   "metadata": {
    "collapsed": true
   },
   "source": [
    "## Number of ways of selecting cups\n",
    "\n",
    "In this section I will investigate the number of wyas in which the lady can arrange the 8 cups into two sets of four - the cups with milk first and the cups with tea first."
   ]
  },
  {
   "cell_type": "code",
   "execution_count": 1,
   "metadata": {},
   "outputs": [
    {
     "data": {
      "text/plain": [
       "[1, 2, 3, 4, 5, 6, 7, 8]"
      ]
     },
     "execution_count": 1,
     "metadata": {},
     "output_type": "execute_result"
    }
   ],
   "source": [
    "cups = list(range(1,9))\n",
    "cups"
   ]
  },
  {
   "cell_type": "markdown",
   "metadata": {},
   "source": [
    "If the subject is picking the cups randomyl (i.e. if they can't really tell which cups have the milk in first), then they are randomly picking one of seventy different options. Therefore they have only a probability of 1/70 of getting the right answer."
   ]
  },
  {
   "cell_type": "code",
   "execution_count": 2,
   "metadata": {},
   "outputs": [
    {
     "data": {
      "text/plain": [
       "70.0"
      ]
     },
     "execution_count": 2,
     "metadata": {},
     "output_type": "execute_result"
    }
   ],
   "source": [
    "#how many different ways are there to select 4 things from this list?\n",
    "# _ _ _ _ 8x7x6x5\n",
    "\n",
    "(8*7*6*5)/(4*3*2*1)"
   ]
  },
  {
   "cell_type": "code",
   "execution_count": 3,
   "metadata": {
    "collapsed": true
   },
   "outputs": [],
   "source": [
    "import itertools"
   ]
  },
  {
   "cell_type": "code",
   "execution_count": 6,
   "metadata": {
    "scrolled": true
   },
   "outputs": [
    {
     "data": {
      "text/plain": [
       "[(1, 2, 3, 4),\n",
       " (1, 2, 3, 5),\n",
       " (1, 2, 3, 6),\n",
       " (1, 2, 3, 7),\n",
       " (1, 2, 3, 8),\n",
       " (1, 2, 4, 5),\n",
       " (1, 2, 4, 6),\n",
       " (1, 2, 4, 7),\n",
       " (1, 2, 4, 8),\n",
       " (1, 2, 5, 6),\n",
       " (1, 2, 5, 7),\n",
       " (1, 2, 5, 8),\n",
       " (1, 2, 6, 7),\n",
       " (1, 2, 6, 8),\n",
       " (1, 2, 7, 8),\n",
       " (1, 3, 4, 5),\n",
       " (1, 3, 4, 6),\n",
       " (1, 3, 4, 7),\n",
       " (1, 3, 4, 8),\n",
       " (1, 3, 5, 6),\n",
       " (1, 3, 5, 7),\n",
       " (1, 3, 5, 8),\n",
       " (1, 3, 6, 7),\n",
       " (1, 3, 6, 8),\n",
       " (1, 3, 7, 8),\n",
       " (1, 4, 5, 6),\n",
       " (1, 4, 5, 7),\n",
       " (1, 4, 5, 8),\n",
       " (1, 4, 6, 7),\n",
       " (1, 4, 6, 8),\n",
       " (1, 4, 7, 8),\n",
       " (1, 5, 6, 7),\n",
       " (1, 5, 6, 8),\n",
       " (1, 5, 7, 8),\n",
       " (1, 6, 7, 8),\n",
       " (2, 3, 4, 5),\n",
       " (2, 3, 4, 6),\n",
       " (2, 3, 4, 7),\n",
       " (2, 3, 4, 8),\n",
       " (2, 3, 5, 6),\n",
       " (2, 3, 5, 7),\n",
       " (2, 3, 5, 8),\n",
       " (2, 3, 6, 7),\n",
       " (2, 3, 6, 8),\n",
       " (2, 3, 7, 8),\n",
       " (2, 4, 5, 6),\n",
       " (2, 4, 5, 7),\n",
       " (2, 4, 5, 8),\n",
       " (2, 4, 6, 7),\n",
       " (2, 4, 6, 8),\n",
       " (2, 4, 7, 8),\n",
       " (2, 5, 6, 7),\n",
       " (2, 5, 6, 8),\n",
       " (2, 5, 7, 8),\n",
       " (2, 6, 7, 8),\n",
       " (3, 4, 5, 6),\n",
       " (3, 4, 5, 7),\n",
       " (3, 4, 5, 8),\n",
       " (3, 4, 6, 7),\n",
       " (3, 4, 6, 8),\n",
       " (3, 4, 7, 8),\n",
       " (3, 5, 6, 7),\n",
       " (3, 5, 6, 8),\n",
       " (3, 5, 7, 8),\n",
       " (3, 6, 7, 8),\n",
       " (4, 5, 6, 7),\n",
       " (4, 5, 6, 8),\n",
       " (4, 5, 7, 8),\n",
       " (4, 6, 7, 8),\n",
       " (5, 6, 7, 8)]"
      ]
     },
     "execution_count": 6,
     "metadata": {},
     "output_type": "execute_result"
    }
   ],
   "source": [
    "list(itertools.combinations(cups, 4))"
   ]
  },
  {
   "cell_type": "markdown",
   "metadata": {},
   "source": [
    "## Hypotheses\n",
    "\n",
    "**Null Hypothesis:** \n",
    "- The person cannot tell if the cup had milk in it first or last.\n",
    "\n",
    "**Alternative Hypothesis:** \n",
    "- The person can tell."
   ]
  },
  {
   "cell_type": "code",
   "execution_count": 8,
   "metadata": {
    "scrolled": true
   },
   "outputs": [
    {
     "data": {
      "text/plain": [
       "0.014285714285714285"
      ]
     },
     "execution_count": 8,
     "metadata": {},
     "output_type": "execute_result"
    }
   ],
   "source": [
    "#Chance of null hypothesis being true - assume this is true first. If unlikely, reject this and consider alternative. \n",
    "1 / 70"
   ]
  },
  {
   "cell_type": "code",
   "execution_count": null,
   "metadata": {
    "collapsed": true
   },
   "outputs": [],
   "source": []
  }
 ],
 "metadata": {
  "kernelspec": {
   "display_name": "Python 3",
   "language": "python",
   "name": "python3"
  },
  "language_info": {
   "codemirror_mode": {
    "name": "ipython",
    "version": 3
   },
   "file_extension": ".py",
   "mimetype": "text/x-python",
   "name": "python",
   "nbconvert_exporter": "python",
   "pygments_lexer": "ipython3",
   "version": "3.6.3"
  }
 },
 "nbformat": 4,
 "nbformat_minor": 2
}
